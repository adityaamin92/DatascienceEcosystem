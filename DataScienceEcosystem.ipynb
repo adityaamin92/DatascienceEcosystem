{
 "cells": [
  {
   "cell_type": "markdown",
   "id": "e9357156-ead9-4dd0-a33d-503f3713c68e",
   "metadata": {},
   "source": [
    "# Data Science Tools and Ecosystem"
   ]
  },
  {
   "cell_type": "markdown",
   "id": "d0e48350-070a-4203-918d-bce39d367f58",
   "metadata": {},
   "source": [
    "# Introduction\n",
    "\n",
    "In this notebook, **Data Science and Ecosystems** are summarized."
   ]
  },
  {
   "cell_type": "markdown",
   "id": "0466f420-d2e8-4297-a3d3-69cbaeca31c8",
   "metadata": {},
   "source": [
    "**Objectives:**\r\n",
    "\r\n",
    "- Understand the key concepts and tools used in Data Science.\r\n",
    "- Explore popular programming languages for Data Science such as Python and R.\r\n",
    "- Learn about different types of data analysis and visualization techniques.\r\n",
    "- Understand the importance of machine learning algorithms in data-driven decision-making.\r\n",
    "- Gain hands-on experience with basic data manipulation and visualization libraries.\r\n"
   ]
  },
  {
   "cell_type": "markdown",
   "id": "7ad7f606-7d5a-4e5d-b303-07e0df3057a2",
   "metadata": {},
   "source": [
    "## Data Science Languages\n",
    "\n",
    "Some of the popular languages that Data Scientists use are:\n",
    "1. Python\n",
    "2. R\n",
    "3. SQL\n",
    "4. Java\n",
    "5. Julia\n",
    "6. Scala\n",
    "7. MATLAB"
   ]
  },
  {
   "cell_type": "markdown",
   "id": "756fae94-3d4a-4426-85cb-1b9d9fa101f2",
   "metadata": {},
   "source": [
    "## Data Science Libraries\n",
    "\n",
    "Some of the commonly used libraries used by Data Scientists include:\n",
    "\n",
    "1. NumPy\n",
    "2. Pandas\n",
    "3. Matplotlib\n",
    "4. Scikit-learn\n",
    "5. TensorFlow\n",
    "6. PyTorch"
   ]
  },
  {
   "cell_type": "markdown",
   "id": "ce7700ed-c383-479f-998f-38ba51969150",
   "metadata": {},
   "source": [
    "## Data Science Tools\n",
    " | Data Science Tools |\n",
    " |--------------------|\n",
    " | Jupyter Notebook   |\n",
    " | RStudio            |\n",
    " | Apache Zeppelin            |"
   ]
  },
  {
   "cell_type": "markdown",
   "id": "3800d1e0-d77f-4904-a6ec-0efe9454a79a",
   "metadata": {},
   "source": [
    "### Below are a few examples of evaluating arithmetic expressions in Python.\n",
    "Arithmetic expressions are mathematical computations performed using operators such as '+', '-', '*', '/'. For example:"
   ]
  },
  {
   "cell_type": "code",
   "execution_count": 2,
   "id": "c3345f89-74e5-440e-b1b2-cbd7860cd8d6",
   "metadata": {},
   "outputs": [
    {
     "data": {
      "text/plain": [
       "17"
      ]
     },
     "execution_count": 2,
     "metadata": {},
     "output_type": "execute_result"
    }
   ],
   "source": [
    "# This is a simple arithmetic expression to multiply then add integers\n",
    "result = (3 * 4) + 5\n",
    "result\n"
   ]
  },
  {
   "cell_type": "code",
   "execution_count": 3,
   "id": "b4fe4d67-92f7-4d6a-a5b8-5c5ccfe9a528",
   "metadata": {},
   "outputs": [
    {
     "data": {
      "text/plain": [
       "3.3333333333333335"
      ]
     },
     "execution_count": 3,
     "metadata": {},
     "output_type": "execute_result"
    }
   ],
   "source": [
    "# This will convert 200 minutes to hours by dividing by 60\n",
    "minutes = 200\n",
    "hours = minutes / 60\n",
    "hours\n"
   ]
  },
  {
   "cell_type": "markdown",
   "id": "e3fdd35d-f29b-4607-81e4-8b0498697301",
   "metadata": {},
   "source": [
    "## Author\n",
    "Aditya Amin"
   ]
  },
  {
   "cell_type": "code",
   "execution_count": null,
   "id": "1388552a-aded-43ac-b8b3-a835ee228c3e",
   "metadata": {},
   "outputs": [],
   "source": []
  }
 ],
 "metadata": {
  "kernelspec": {
   "display_name": "Python 3 (ipykernel)",
   "language": "python",
   "name": "python3"
  },
  "language_info": {
   "codemirror_mode": {
    "name": "ipython",
    "version": 3
   },
   "file_extension": ".py",
   "mimetype": "text/x-python",
   "name": "python",
   "nbconvert_exporter": "python",
   "pygments_lexer": "ipython3",
   "version": "3.12.4"
  }
 },
 "nbformat": 4,
 "nbformat_minor": 5
}
